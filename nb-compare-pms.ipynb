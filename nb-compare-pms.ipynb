{
 "cells": [
  {
   "cell_type": "code",
   "execution_count": 1,
   "metadata": {},
   "outputs": [
    {
     "name": "stdout",
     "output_type": "stream",
     "text": [
      "Populating the interactive namespace from numpy and matplotlib\n"
     ]
    }
   ],
   "source": [
    "%pylab inline\n",
    "%config InlineBackend.figure_format = 'retina'\n",
    "\n",
    "import pandas as pd\n",
    "import seaborn as sns\n",
    "\n",
    "from astropy.table import Table"
   ]
  },
  {
   "cell_type": "code",
   "execution_count": 2,
   "metadata": {},
   "outputs": [],
   "source": [
    "deg_to_rad = 2. * np.pi / 360."
   ]
  },
  {
   "cell_type": "markdown",
   "metadata": {},
   "source": [
    "# My mean PMs within rh"
   ]
  },
  {
   "cell_type": "code",
   "execution_count": 3,
   "metadata": {},
   "outputs": [
    {
     "data": {
      "text/html": [
       "<div>\n",
       "<style scoped>\n",
       "    .dataframe tbody tr th:only-of-type {\n",
       "        vertical-align: middle;\n",
       "    }\n",
       "\n",
       "    .dataframe tbody tr th {\n",
       "        vertical-align: top;\n",
       "    }\n",
       "\n",
       "    .dataframe thead th {\n",
       "        text-align: right;\n",
       "    }\n",
       "</style>\n",
       "<table border=\"1\" class=\"dataframe\">\n",
       "  <thead>\n",
       "    <tr style=\"text-align: right;\">\n",
       "      <th></th>\n",
       "      <th>GalaxyName</th>\n",
       "      <th>RA_deg</th>\n",
       "      <th>Dec_deg</th>\n",
       "      <th>Distance_pc</th>\n",
       "      <th>rh(arcmins)</th>\n",
       "      <th>Nstar_rh</th>\n",
       "      <th>pmra_rh</th>\n",
       "      <th>pmdec_rh</th>\n",
       "      <th>Nstar_2rh</th>\n",
       "      <th>pmra_2rh</th>\n",
       "      <th>pmdec_2rh</th>\n",
       "      <th>rh_deg</th>\n",
       "    </tr>\n",
       "  </thead>\n",
       "  <tbody>\n",
       "    <tr>\n",
       "      <th>33</th>\n",
       "      <td>LeoV</td>\n",
       "      <td>172.790000</td>\n",
       "      <td>2.22</td>\n",
       "      <td>177827.941004</td>\n",
       "      <td>2.6</td>\n",
       "      <td>14</td>\n",
       "      <td>-1.367983</td>\n",
       "      <td>-4.746397</td>\n",
       "      <td>57</td>\n",
       "      <td>-5.628163</td>\n",
       "      <td>-4.445216</td>\n",
       "      <td>0.043333</td>\n",
       "    </tr>\n",
       "    <tr>\n",
       "      <th>34</th>\n",
       "      <td>Pegasus3</td>\n",
       "      <td>336.094167</td>\n",
       "      <td>5.42</td>\n",
       "      <td>205116.217883</td>\n",
       "      <td>1.3</td>\n",
       "      <td>7</td>\n",
       "      <td>9.235669</td>\n",
       "      <td>2.275212</td>\n",
       "      <td>27</td>\n",
       "      <td>2.382329</td>\n",
       "      <td>-4.597581</td>\n",
       "      <td>0.021667</td>\n",
       "    </tr>\n",
       "  </tbody>\n",
       "</table>\n",
       "</div>"
      ],
      "text/plain": [
       "   GalaxyName      RA_deg  Dec_deg    Distance_pc  rh(arcmins)  Nstar_rh  \\\n",
       "33       LeoV  172.790000     2.22  177827.941004          2.6        14   \n",
       "34   Pegasus3  336.094167     5.42  205116.217883          1.3         7   \n",
       "\n",
       "     pmra_rh  pmdec_rh  Nstar_2rh  pmra_2rh  pmdec_2rh    rh_deg  \n",
       "33 -1.367983 -4.746397         57 -5.628163  -4.445216  0.043333  \n",
       "34  9.235669  2.275212         27  2.382329  -4.597581  0.021667  "
      ]
     },
     "execution_count": 3,
     "metadata": {},
     "output_type": "execute_result"
    }
   ],
   "source": [
    "df_kw = pd.read_csv('dwarf-csvs/dwarfs_detail.csv').drop(columns=['Unnamed: 0'])\n",
    "df_kw = df_kw.drop(columns=['Nbg_per_deg2', 'Nstar_per_rhdeg3'])\n",
    "df_kw.sample(2)"
   ]
  },
  {
   "cell_type": "code",
   "execution_count": 4,
   "metadata": {},
   "outputs": [
    {
     "data": {
      "text/html": [
       "<div>\n",
       "<style scoped>\n",
       "    .dataframe tbody tr th:only-of-type {\n",
       "        vertical-align: middle;\n",
       "    }\n",
       "\n",
       "    .dataframe tbody tr th {\n",
       "        vertical-align: top;\n",
       "    }\n",
       "\n",
       "    .dataframe thead th {\n",
       "        text-align: right;\n",
       "    }\n",
       "</style>\n",
       "<table border=\"1\" class=\"dataframe\">\n",
       "  <thead>\n",
       "    <tr style=\"text-align: right;\">\n",
       "      <th></th>\n",
       "      <th>GalaxyName</th>\n",
       "      <th>RA_deg</th>\n",
       "      <th>Dec_deg</th>\n",
       "      <th>Distance_pc</th>\n",
       "      <th>rh(arcmins)</th>\n",
       "      <th>Nstar_rh</th>\n",
       "      <th>pmra_rh</th>\n",
       "      <th>pmdec_rh</th>\n",
       "      <th>Nstar_2rh</th>\n",
       "      <th>pmra_2rh</th>\n",
       "      <th>pmdec_2rh</th>\n",
       "      <th>rh_deg</th>\n",
       "      <th>dec_rad</th>\n",
       "      <th>pmra_rh*cos(dec)</th>\n",
       "      <th>pmra_2rh*cos(dec)</th>\n",
       "    </tr>\n",
       "  </thead>\n",
       "  <tbody>\n",
       "    <tr>\n",
       "      <th>40</th>\n",
       "      <td>ReticulumIII</td>\n",
       "      <td>56.36000</td>\n",
       "      <td>-60.450000</td>\n",
       "      <td>91622.049012</td>\n",
       "      <td>2.40</td>\n",
       "      <td>11</td>\n",
       "      <td>4.289628</td>\n",
       "      <td>3.952851</td>\n",
       "      <td>42</td>\n",
       "      <td>5.814544</td>\n",
       "      <td>-3.268421</td>\n",
       "      <td>0.040000</td>\n",
       "      <td>-1.055052</td>\n",
       "      <td>2.115571</td>\n",
       "      <td>2.867634</td>\n",
       "    </tr>\n",
       "    <tr>\n",
       "      <th>24</th>\n",
       "      <td>HorologiumII</td>\n",
       "      <td>49.13375</td>\n",
       "      <td>-50.018056</td>\n",
       "      <td>77983.011052</td>\n",
       "      <td>2.09</td>\n",
       "      <td>12</td>\n",
       "      <td>3.386036</td>\n",
       "      <td>-5.078660</td>\n",
       "      <td>32</td>\n",
       "      <td>5.791953</td>\n",
       "      <td>-2.563371</td>\n",
       "      <td>0.034833</td>\n",
       "      <td>-0.872980</td>\n",
       "      <td>2.175684</td>\n",
       "      <td>3.721597</td>\n",
       "    </tr>\n",
       "  </tbody>\n",
       "</table>\n",
       "</div>"
      ],
      "text/plain": [
       "      GalaxyName    RA_deg    Dec_deg   Distance_pc  rh(arcmins)  Nstar_rh  \\\n",
       "40  ReticulumIII  56.36000 -60.450000  91622.049012         2.40        11   \n",
       "24  HorologiumII  49.13375 -50.018056  77983.011052         2.09        12   \n",
       "\n",
       "     pmra_rh  pmdec_rh  Nstar_2rh  pmra_2rh  pmdec_2rh    rh_deg   dec_rad  \\\n",
       "40  4.289628  3.952851         42  5.814544  -3.268421  0.040000 -1.055052   \n",
       "24  3.386036 -5.078660         32  5.791953  -2.563371  0.034833 -0.872980   \n",
       "\n",
       "    pmra_rh*cos(dec)  pmra_2rh*cos(dec)  \n",
       "40          2.115571           2.867634  \n",
       "24          2.175684           3.721597  "
      ]
     },
     "execution_count": 4,
     "metadata": {},
     "output_type": "execute_result"
    }
   ],
   "source": [
    "df_kw['dec_rad'] = df_kw['Dec_deg'] * deg_to_rad\n",
    "df_kw['pmra_rh*cos(dec)'] = df_kw['pmra_rh'] * np.cos(df_kw['dec_rad'])\n",
    "df_kw['pmra_2rh*cos(dec)'] = df_kw['pmra_2rh'] * np.cos(df_kw['dec_rad'])\n",
    "df_kw.sample(2)"
   ]
  },
  {
   "cell_type": "markdown",
   "metadata": {},
   "source": [
    "# PMs from Table 3 in Pace et al 2019\n",
    "Table data was downloaded from arxiv with source"
   ]
  },
  {
   "cell_type": "code",
   "execution_count": 5,
   "metadata": {},
   "outputs": [
    {
     "name": "stdout",
     "output_type": "stream",
     "text": [
      "\\colhead{Satellite}\n",
      "\\colhead{$\\sum p_i$}\n",
      "\\colhead{${\\rm N}$($p_i > 0.1$)}\n",
      "\\colhead{${\\rm N}_{\\rm expected}$}\n",
      "\\colhead{${\\rm N}(r<3\\times r_h)$}\n",
      "\\colhead{$\\overline{\\mu_{\\alpha }\\cos{\\delta}}$}\n",
      "\\colhead{$\\overline{\\mu_{\\delta}}$ }\n",
      "\\colhead{$C_{\\overline{\\pmra} \\times \\overline{\\pmdec}}$ }\n"
     ]
    }
   ],
   "source": [
    "t = Table.read('pm-data/Pace2019_table_PM.tex')\n",
    "for col in t.colnames:\n",
    "    print(col)"
   ]
  },
  {
   "cell_type": "code",
   "execution_count": 6,
   "metadata": {},
   "outputs": [
    {
     "name": "stdout",
     "output_type": "stream",
     "text": [
      "           satellite    <-    \\colhead{Satellite}\n",
      "     prob_membership    <-    \\colhead{$\\sum p_i$}\n",
      "    Nstar_(prob>0.1)    <-    \\colhead{${\\rm N}$($p_i > 0.1$)}\n",
      "           Nexpected    <-    \\colhead{${\\rm N}_{\\rm expected}$}\n",
      "            N(r<3rh)    <-    \\colhead{${\\rm N}(r<3\\times r_h)$}\n",
      "       pmra*cos(dec)    <-    \\colhead{$\\overline{\\mu_{\\alpha }\\cos{\\delta}}$}\n",
      "               pmdec    <-    \\colhead{$\\overline{\\mu_{\\delta}}$ }\n",
      "         correlation    <-    \\colhead{$C_{\\overline{\\pmra} \\times \\overline{\\pmdec}}$ }\n"
     ]
    }
   ],
   "source": [
    "newcol = ['satellite', \n",
    "          'prob_membership',\n",
    "          'Nstar_(prob>0.1)',\n",
    "          'Nexpected',\n",
    "          'N(r<3rh)',\n",
    "          'pmra*cos(dec)',\n",
    "          'pmdec',\n",
    "          'correlation',\n",
    "         ]\n",
    "\n",
    "for i,col in enumerate(t.colnames):\n",
    "    print('%20s    <-    %s' % (newcol[i], col))"
   ]
  },
  {
   "cell_type": "code",
   "execution_count": 7,
   "metadata": {},
   "outputs": [
    {
     "data": {
      "text/html": [
       "<div>\n",
       "<style scoped>\n",
       "    .dataframe tbody tr th:only-of-type {\n",
       "        vertical-align: middle;\n",
       "    }\n",
       "\n",
       "    .dataframe tbody tr th {\n",
       "        vertical-align: top;\n",
       "    }\n",
       "\n",
       "    .dataframe thead th {\n",
       "        text-align: right;\n",
       "    }\n",
       "</style>\n",
       "<table border=\"1\" class=\"dataframe\">\n",
       "  <thead>\n",
       "    <tr style=\"text-align: right;\">\n",
       "      <th></th>\n",
       "      <th>satellite</th>\n",
       "      <th>prob_membership</th>\n",
       "      <th>Nstar_(prob&gt;0.1)</th>\n",
       "      <th>Nexpected</th>\n",
       "      <th>N(r&lt;3rh)</th>\n",
       "      <th>pmra*cos(dec)</th>\n",
       "      <th>pmdec</th>\n",
       "      <th>correlation</th>\n",
       "    </tr>\n",
       "  </thead>\n",
       "  <tbody>\n",
       "    <tr>\n",
       "      <th>2</th>\n",
       "      <td>Horologium I</td>\n",
       "      <td>17.06</td>\n",
       "      <td>20</td>\n",
       "      <td>$16 \\pm 4$</td>\n",
       "      <td>15</td>\n",
       "      <td>$0.95_{-0.07}^{+0.07}$</td>\n",
       "      <td>$-0.55_{-0.06}^{+0.06}$</td>\n",
       "      <td>0.29</td>\n",
       "    </tr>\n",
       "    <tr>\n",
       "      <th>1</th>\n",
       "      <td>Grus I</td>\n",
       "      <td>8.23</td>\n",
       "      <td>9</td>\n",
       "      <td>$8 \\pm 3$</td>\n",
       "      <td>8</td>\n",
       "      <td>$-0.25_{-0.16}^{+0.16}$</td>\n",
       "      <td>$-0.47_{-0.23}^{+0.23}$</td>\n",
       "      <td>0.35</td>\n",
       "    </tr>\n",
       "  </tbody>\n",
       "</table>\n",
       "</div>"
      ],
      "text/plain": [
       "      satellite  prob_membership  Nstar_(prob>0.1)   Nexpected  N(r<3rh)  \\\n",
       "2  Horologium I            17.06                20  $16 \\pm 4$        15   \n",
       "1        Grus I             8.23                 9   $8 \\pm 3$         8   \n",
       "\n",
       "             pmra*cos(dec)                    pmdec  correlation  \n",
       "2   $0.95_{-0.07}^{+0.07}$  $-0.55_{-0.06}^{+0.06}$         0.29  \n",
       "1  $-0.25_{-0.16}^{+0.16}$  $-0.47_{-0.23}^{+0.23}$         0.35  "
      ]
     },
     "execution_count": 7,
     "metadata": {},
     "output_type": "execute_result"
    }
   ],
   "source": [
    "df_pace = t.to_pandas()\n",
    "df_pace = df_pace.rename(columns={col: newcol[i] for i,col in enumerate(t.colnames)})\n",
    "df_pace.sample(2)"
   ]
  },
  {
   "cell_type": "code",
   "execution_count": 8,
   "metadata": {},
   "outputs": [
    {
     "data": {
      "text/html": [
       "<div>\n",
       "<style scoped>\n",
       "    .dataframe tbody tr th:only-of-type {\n",
       "        vertical-align: middle;\n",
       "    }\n",
       "\n",
       "    .dataframe tbody tr th {\n",
       "        vertical-align: top;\n",
       "    }\n",
       "\n",
       "    .dataframe thead th {\n",
       "        text-align: right;\n",
       "    }\n",
       "</style>\n",
       "<table border=\"1\" class=\"dataframe\">\n",
       "  <thead>\n",
       "    <tr style=\"text-align: right;\">\n",
       "      <th></th>\n",
       "      <th>satellite</th>\n",
       "      <th>prob_membership</th>\n",
       "      <th>Nstar_(prob&gt;0.1)</th>\n",
       "      <th>Nexpected</th>\n",
       "      <th>N(r&lt;3rh)</th>\n",
       "      <th>pmra*cos(dec)</th>\n",
       "      <th>pmdec</th>\n",
       "      <th>correlation</th>\n",
       "      <th>mean_pmra*cos(dec)</th>\n",
       "      <th>mean_pmdec</th>\n",
       "    </tr>\n",
       "  </thead>\n",
       "  <tbody>\n",
       "    <tr>\n",
       "      <th>9</th>\n",
       "      <td>Phoenix II</td>\n",
       "      <td>8.78</td>\n",
       "      <td>10</td>\n",
       "      <td>$9 \\pm 3$</td>\n",
       "      <td>9</td>\n",
       "      <td>$0.49_{-0.10}^{+0.11}$</td>\n",
       "      <td>$-1.03_{-0.12}^{+0.12}$</td>\n",
       "      <td>-0.48</td>\n",
       "      <td>0.49</td>\n",
       "      <td>-1.03</td>\n",
       "    </tr>\n",
       "    <tr>\n",
       "      <th>6</th>\n",
       "      <td>Columba I</td>\n",
       "      <td>7.19</td>\n",
       "      <td>11</td>\n",
       "      <td>$6 \\pm 3$</td>\n",
       "      <td>8</td>\n",
       "      <td>$-0.02_{-0.27}^{+0.24}$</td>\n",
       "      <td>$-0.04_{-0.30}^{+0.30}$</td>\n",
       "      <td>-0.22</td>\n",
       "      <td>-0.02</td>\n",
       "      <td>-0.04</td>\n",
       "    </tr>\n",
       "  </tbody>\n",
       "</table>\n",
       "</div>"
      ],
      "text/plain": [
       "    satellite  prob_membership  Nstar_(prob>0.1)  Nexpected  N(r<3rh)  \\\n",
       "9  Phoenix II             8.78                10  $9 \\pm 3$         9   \n",
       "6   Columba I             7.19                11  $6 \\pm 3$         8   \n",
       "\n",
       "             pmra*cos(dec)                    pmdec  correlation  \\\n",
       "9   $0.49_{-0.10}^{+0.11}$  $-1.03_{-0.12}^{+0.12}$        -0.48   \n",
       "6  $-0.02_{-0.27}^{+0.24}$  $-0.04_{-0.30}^{+0.30}$        -0.22   \n",
       "\n",
       "   mean_pmra*cos(dec)  mean_pmdec  \n",
       "9                0.49       -1.03  \n",
       "6               -0.02       -0.04  "
      ]
     },
     "execution_count": 8,
     "metadata": {},
     "output_type": "execute_result"
    }
   ],
   "source": [
    "df_pace['mean_pmra*cos(dec)'] = df_pace['pmra*cos(dec)'].str.split('_', n=1, expand=True)[0]\n",
    "df_pace['mean_pmra*cos(dec)'] = df_pace['mean_pmra*cos(dec)'].str.replace('$', '').astype(float)\n",
    "\n",
    "df_pace['mean_pmdec'] = df_pace['pmdec'].str.split('_', n=1, expand=True)[0]\n",
    "df_pace['mean_pmdec'] = df_pace['mean_pmdec'].str.replace('$', '').astype(float)\n",
    "\n",
    "df_pace.sample(2)"
   ]
  },
  {
   "cell_type": "markdown",
   "metadata": {},
   "source": [
    "# Comparison"
   ]
  },
  {
   "cell_type": "code",
   "execution_count": 9,
   "metadata": {},
   "outputs": [
    {
     "data": {
      "text/plain": [
       "<matplotlib.axes._subplots.AxesSubplot at 0x7fd6ed20ac10>"
      ]
     },
     "execution_count": 9,
     "metadata": {},
     "output_type": "execute_result"
    },
    {
     "data": {
      "image/png": "[encoded data removed]",
      "text/plain": [
       "<Figure size 432x288 with 1 Axes>"
      ]
     },
     "metadata": {
      "image/png": {
       "height": 267,
       "width": 409
      }
     },
     "output_type": "display_data"
    }
   ],
   "source": [
    "sns.set(style=\"white\", color_codes=True, font_scale=1)\n",
    "fig, ax = plt.subplots()\n",
    "\n",
    "sns.scatterplot(x=df_kw['pmra_rh*cos(dec)'], y=df_kw['pmdec_rh'], ax=ax)\n",
    "sns.scatterplot(x=df_pace['mean_pmra*cos(dec)'], y=df_pace['mean_pmdec'], ax=ax)\n",
    "# sns.scatterplot(x=df['GalaxyName'], y=df['overlap_s2_min'], ax=ax, color='b', alpha=alpha)\n",
    "# sns.scatterplot(x=df['GalaxyName'], y=df['overlap_s2_max'], ax=ax, color='b', alpha=alpha)\n",
    "# ax.errorbar(df['GalaxyName'], df['overlap_s2_mean'], yerr=df['overlap_s2_std'], color='b', ls='none')\n",
    "# ax.axhline(2, ls='--', color='b')\n",
    "\n",
    "\n",
    "# fig.autofmt_xdate()\n",
    "# ax.set_ylabel('significance')\n",
    "# ax.set_title('significance in overlapping area')\n",
    "\n",
    "# plt.savefig('sig_overlap.png', bbox_inches='tight', dpi=300)"
   ]
  },
  {
   "cell_type": "code",
   "execution_count": null,
   "metadata": {},
   "outputs": [],
   "source": []
  },
  {
   "cell_type": "code",
   "execution_count": null,
   "metadata": {},
   "outputs": [],
   "source": []
  },
  {
   "cell_type": "code",
   "execution_count": null,
   "metadata": {},
   "outputs": [],
   "source": []
  }
 ],
 "metadata": {
  "kernelspec": {
   "display_name": "Python 3",
   "language": "python",
   "name": "python3"
  },
  "language_info": {
   "codemirror_mode": {
    "name": "ipython",
    "version": 3
   },
   "file_extension": ".py",
   "mimetype": "text/x-python",
   "name": "python",
   "nbconvert_exporter": "python",
   "pygments_lexer": "ipython3",
   "version": "3.7.4"
  }
 },
 "nbformat": 4,
 "nbformat_minor": 2
}
