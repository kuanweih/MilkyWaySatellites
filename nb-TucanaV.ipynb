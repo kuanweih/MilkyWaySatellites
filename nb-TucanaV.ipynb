{
 "cells": [
  {
   "cell_type": "code",
   "execution_count": 1,
   "metadata": {},
   "outputs": [
    {
     "name": "stdout",
     "output_type": "stream",
     "text": [
      "Populating the interactive namespace from numpy and matplotlib\n"
     ]
    }
   ],
   "source": [
    "%pylab inline\n",
    "%config InlineBackend.figure_format = 'retina'\n",
    "\n",
    "import sqlutilpy\n",
    "import pandas as pd\n",
    "import seaborn as sns\n",
    "\n",
    "from wsdb import HOST, USER, PASSWORD\n",
    "from src.classPatchMWSatellite import *"
   ]
  },
  {
   "cell_type": "code",
   "execution_count": 2,
   "metadata": {},
   "outputs": [
    {
     "data": {
      "text/html": [
       "<div>\n",
       "<style scoped>\n",
       "    .dataframe tbody tr th:only-of-type {\n",
       "        vertical-align: middle;\n",
       "    }\n",
       "\n",
       "    .dataframe tbody tr th {\n",
       "        vertical-align: top;\n",
       "    }\n",
       "\n",
       "    .dataframe thead th {\n",
       "        text-align: right;\n",
       "    }\n",
       "</style>\n",
       "<table border=\"1\" class=\"dataframe\">\n",
       "  <thead>\n",
       "    <tr style=\"text-align: right;\">\n",
       "      <th></th>\n",
       "      <th>GalaxyName</th>\n",
       "      <th>RA_deg</th>\n",
       "      <th>Dec_deg</th>\n",
       "      <th>Distance_pc</th>\n",
       "      <th>rh(arcmins)</th>\n",
       "      <th>rh_deg</th>\n",
       "      <th>rh_pc</th>\n",
       "    </tr>\n",
       "  </thead>\n",
       "  <tbody>\n",
       "    <tr>\n",
       "      <th>39</th>\n",
       "      <td>Reticulum2</td>\n",
       "      <td>53.925417</td>\n",
       "      <td>-54.049167</td>\n",
       "      <td>30199.517204</td>\n",
       "      <td>3.64</td>\n",
       "      <td>0.060667</td>\n",
       "      <td>31.976248</td>\n",
       "    </tr>\n",
       "    <tr>\n",
       "      <th>5</th>\n",
       "      <td>CanesVenatici(I)</td>\n",
       "      <td>202.014583</td>\n",
       "      <td>33.555833</td>\n",
       "      <td>217770.977235</td>\n",
       "      <td>8.90</td>\n",
       "      <td>0.148333</td>\n",
       "      <td>563.788384</td>\n",
       "    </tr>\n",
       "    <tr>\n",
       "      <th>45</th>\n",
       "      <td>Sextans(I)</td>\n",
       "      <td>153.262500</td>\n",
       "      <td>-1.614722</td>\n",
       "      <td>85901.352151</td>\n",
       "      <td>27.80</td>\n",
       "      <td>0.463333</td>\n",
       "      <td>694.657794</td>\n",
       "    </tr>\n",
       "  </tbody>\n",
       "</table>\n",
       "</div>"
      ],
      "text/plain": [
       "          GalaxyName      RA_deg    Dec_deg    Distance_pc  rh(arcmins)  \\\n",
       "39        Reticulum2   53.925417 -54.049167   30199.517204         3.64   \n",
       "5   CanesVenatici(I)  202.014583  33.555833  217770.977235         8.90   \n",
       "45        Sextans(I)  153.262500  -1.614722   85901.352151        27.80   \n",
       "\n",
       "      rh_deg       rh_pc  \n",
       "39  0.060667   31.976248  \n",
       "5   0.148333  563.788384  \n",
       "45  0.463333  694.657794  "
      ]
     },
     "execution_count": 2,
     "metadata": {},
     "output_type": "execute_result"
    }
   ],
   "source": [
    "df = pd.read_csv('ori-dwarfs/ori-dwarfs.csv').drop(columns=['Unnamed: 0'])\n",
    "df.sample(3)"
   ]
  },
  {
   "cell_type": "code",
   "execution_count": 3,
   "metadata": {},
   "outputs": [
    {
     "name": "stdout",
     "output_type": "stream",
     "text": [
      "   GalaxyName  RA_deg  Dec_deg   Distance_pc  rh(arcmins)    rh_deg      rh_pc\n",
      "50    TucanaV  354.35   -63.27  55207.743928          1.0  0.016667  16.059282\n",
      " \n",
      "rh of TucanaV is 16.06 pc\n"
     ]
    }
   ],
   "source": [
    "target = df.loc[df['GalaxyName'] == 'TucanaV']\n",
    "print(target)\n",
    "print(' ')\n",
    "print('rh of ' + target.iloc[0]['GalaxyName'] + ' is %0.2f pc' % target.iloc[0]['rh_pc'])"
   ]
  },
  {
   "cell_type": "code",
   "execution_count": 4,
   "metadata": {},
   "outputs": [],
   "source": [
    "DATABASE = 'gaia_dr2.gaia_source'\n",
    "CATALOG_STR = 'ra, dec, phot_g_mean_mag, astrometric_excess_noise'"
   ]
  },
  {
   "cell_type": "code",
   "execution_count": 5,
   "metadata": {},
   "outputs": [
    {
     "data": {
      "text/plain": [
       "'This is a PatchMWSatellite object:\\n    name = TucanaV\\n    ra = 354.35\\n    dec = -63.27\\n    map width = 0.03333333333333333 deg\\n    database = gaia_dr2.gaia_source\\n'"
      ]
     },
     "execution_count": 5,
     "metadata": {},
     "output_type": "execute_result"
    }
   ],
   "source": [
    "Patch = PatchMWSatellite(target.iloc[0]['GalaxyName'], \n",
    "                         target.iloc[0]['RA_deg'], \n",
    "                         target.iloc[0]['Dec_deg'], \n",
    "                         target.iloc[0]['Distance_pc'], \n",
    "                         2. * target.iloc[0]['rh_deg'], \n",
    "                         DATABASE, \n",
    "                         CATALOG_STR)\n",
    "Patch.__str__()"
   ]
  },
  {
   "cell_type": "code",
   "execution_count": 6,
   "metadata": {},
   "outputs": [
    {
     "name": "stdout",
     "output_type": "stream",
     "text": [
      "Querying data in the patch using sqlutilpy.get():\n",
      "    2 sources are queried \n",
      "\n"
     ]
    }
   ],
   "source": [
    "Patch.sql_get(HOST, USER, PASSWORD)"
   ]
  },
  {
   "cell_type": "code",
   "execution_count": 7,
   "metadata": {},
   "outputs": [
    {
     "name": "stdout",
     "output_type": "stream",
     "text": [
      "phot_g_mean_mag\n",
      "[20.4352 13.2199]\n",
      " \n",
      "astrometric_excess_noise\n",
      "[9.89963274 0.        ]\n"
     ]
    }
   ],
   "source": [
    "print('phot_g_mean_mag')\n",
    "print(Patch.datas['phot_g_mean_mag'])\n",
    "print(' ')\n",
    "print('astrometric_excess_noise')\n",
    "print(Patch.datas['astrometric_excess_noise'])"
   ]
  },
  {
   "cell_type": "code",
   "execution_count": 8,
   "metadata": {},
   "outputs": [
    {
     "name": "stdout",
     "output_type": "stream",
     "text": [
      "Applying a cut: 17 < phot_g_mean_mag < 21:\n",
      "    1 sources left \n",
      "\n",
      "Applying astrometric_excess_noise and phot_g_mean_mag cut.\n",
      "    0 sources left \n",
      "\n"
     ]
    }
   ],
   "source": [
    "Patch.mask_cut('phot_g_mean_mag', 17, 21)\n",
    "Patch.mask_g_mag_astro_noise_cut()"
   ]
  },
  {
   "cell_type": "code",
   "execution_count": null,
   "metadata": {},
   "outputs": [],
   "source": []
  },
  {
   "cell_type": "code",
   "execution_count": null,
   "metadata": {},
   "outputs": [],
   "source": []
  },
  {
   "cell_type": "code",
   "execution_count": null,
   "metadata": {},
   "outputs": [],
   "source": []
  }
 ],
 "metadata": {
  "kernelspec": {
   "display_name": "Python 3",
   "language": "python",
   "name": "python3"
  },
  "language_info": {
   "codemirror_mode": {
    "name": "ipython",
    "version": 3
   },
   "file_extension": ".py",
   "mimetype": "text/x-python",
   "name": "python",
   "nbconvert_exporter": "python",
   "pygments_lexer": "ipython3",
   "version": "3.7.4"
  }
 },
 "nbformat": 4,
 "nbformat_minor": 2
}
